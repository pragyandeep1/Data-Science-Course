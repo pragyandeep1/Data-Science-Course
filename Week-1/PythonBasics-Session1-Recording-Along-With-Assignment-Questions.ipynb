{
 "cells": [
  {
   "cell_type": "markdown",
   "metadata": {},
   "source": [
    "<img src=\"https://shwetkm.github.io/upxlogo.png\"></img>\n",
    "\n",
    "# Python Basics - Data Science Foundation\n",
    "\n",
    "**SET THE WORKING DIRECTORY SO THAT WE DO NOT HAVE TO THINK ABOUT PATH PROBLEMS**\n",
    "\n",
    "Please ensure all your folder names <font color='red'><b>do not have a space & use forward slash (/)</b></font>"
   ]
  },
  {
   "cell_type": "code",
   "execution_count": null,
   "metadata": {},
   "outputs": [],
   "source": [
    "your_local_path=\"C:/Users/tejks/Desktop/ML/practice/\""
   ]
  },
  {
   "cell_type": "markdown",
   "metadata": {},
   "source": [
    "\n",
    "**IPython notebook**\n",
    "\n",
    "IPython is a software package in Python that serves as a research notebook. IPython has a seamless interface using which you can write notes as well as perform data analysis in the same file. The data analysis part allows you to write the code and run it from within the notebook itself. The results also are displayed in the notebook. Among other things, IPython provides:\n",
    "\n",
    "1. An interactive shell\n",
    "2. Notebook that is browser based. The notebook supports text, code, expressions, graphs and interactive data visualization, embed images and videos, and also links to web pages on the Internet. \n",
    "3. Tools for parallel computing.\n",
    "4. Import external code and run it.\n",
    "5. Export the notebook in a number of formats.\n",
    "\n",
    "**Creating an IPython notebook**\n",
    "\n",
    "In order to create an IPython notebook, choose File -> New -> IPython notebook. \n",
    "\n",
    "Hitting Alt+Enter creates a new cell. A cell is nothing but a placeholder where you can write some text or execute code. \n",
    "To run press Shift+Enter"
   ]
  },
  {
   "cell_type": "markdown",
   "metadata": {},
   "source": [
    "In order to find help on some concept, make use of ? If you want to find a function or make use of wildcard entry, make use of followed by ? A quickref command gives you a quick reference to the most commonly used commands in Python."
   ]
  },
  {
   "cell_type": "code",
   "execution_count": null,
   "metadata": {},
   "outputs": [],
   "source": [
    "import sys\n",
    "print (sys.version)\n",
    "print (sys.version_info)"
   ]
  },
  {
   "cell_type": "markdown",
   "metadata": {},
   "source": [
    "**Syntax Formalities**\n",
    "\n",
    "+ Python is <b>case sensitive</b>\n",
    "+ Python makes use of <b>whitespace</b> for code structuring and marking logical breaks in the code (In contrast to other programming languages that use braces)\n",
    "+ End of line marks end of a statement, so <b>does not require a semicolon at end of each statement</b>\n",
    "+ Whitespace at the beginning of the line is important. This is called <b>indentation</b>.\n",
    "+ Leading whitespace (spaces and tabs) at the beginning of the logical line is used to determine the <b>indentation level</b> of the logical line.\n",
    "+ Statements which go together must have the same indentation. Each such set of statements is called a <b>block</b>."
   ]
  },
  {
   "cell_type": "code",
   "execution_count": null,
   "metadata": {},
   "outputs": [],
   "source": [
    "i = 5\n",
    "print ('Value is ', i) # Error! Notice a single space at the start of the line\n",
    "print ('I repeat, the value is ', i)"
   ]
  },
  {
   "cell_type": "markdown",
   "metadata": {},
   "source": [
    "**Comments** \n",
    "\n",
    "One line comments are denoted by <font color='red'><b>#</b></font> at the start of line<br/>\n",
    "Multiple line/block comments start with <font color='red'><b>'''</b></font> and end with <font color='red'><b>'''</b></font>"
   ]
  },
  {
   "cell_type": "code",
   "execution_count": 14,
   "metadata": {},
   "outputs": [
    {
     "data": {
      "text/plain": [
       "' This is a block comment 3 single quotes\\nprint(\"We are in a comment\")\\nprint (\"We are still in a comment\") '"
      ]
     },
     "execution_count": 14,
     "metadata": {},
     "output_type": "execute_result"
    }
   ],
   "source": [
    "# this is a single line comment\n",
    "# print(\"I will not be printed, I am a single line comment\")\n",
    "\"\"\" This is a block comment 3 single quotes\n",
    "print(\"We are in a comment\")\n",
    "print (\"We are still in a comment\") \"\"\"\n"
   ]
  },
  {
   "cell_type": "code",
   "execution_count": 15,
   "metadata": {},
   "outputs": [
    {
     "ename": "SyntaxError",
     "evalue": "invalid syntax (<ipython-input-15-22c266d4a3b8>, line 8)",
     "output_type": "error",
     "traceback": [
      "\u001b[1;36m  File \u001b[1;32m\"<ipython-input-15-22c266d4a3b8>\"\u001b[1;36m, line \u001b[1;32m8\u001b[0m\n\u001b[1;33m    is similar to                   <------------------ Let us compare with other language\u001b[0m\n\u001b[1;37m     ^\u001b[0m\n\u001b[1;31mSyntaxError\u001b[0m\u001b[1;31m:\u001b[0m invalid syntax\n"
     ]
    }
   ],
   "source": [
    "#Example of indentation\n",
    "for x in alist:\n",
    "    if x < anumber:\n",
    "            print(x)\n",
    "    else:\n",
    "        print(-x)\n",
    "        \n",
    "is similar to                   <------------------ Let us compare with other language\n",
    "\n",
    "for x in alist \n",
    "{\n",
    "    if x < anumber\n",
    "    {\n",
    "        print(x)\n",
    "    }\n",
    "    else\n",
    "    {\n",
    "        print(-x)\n",
    "    }\n",
    "}\n",
    "\n"
   ]
  },
  {
   "cell_type": "markdown",
   "metadata": {},
   "source": [
    "**Variables and Data Structures**\n",
    "\n",
    "+ Built-in data types:<br/>\n",
    "<b>Integer, Floating point, String, Boolean Values, Date and Time</b>\n",
    "\n",
    "+ Additional data structures:<br/>\n",
    "<b>Tuples, Lists, Dictionary</b>\n",
    "\n",
    "+ A variable is a name that refers to a value.\n",
    "+ No need to specify <b>type</b> to a variable; Python automatically assigns.\n"
   ]
  },
  {
   "cell_type": "code",
   "execution_count": 20,
   "metadata": {},
   "outputs": [
    {
     "name": "stdout",
     "output_type": "stream",
     "text": [
      "100\n",
      "1000.0\n",
      "Ajay\n",
      "1111111111112.0\n"
     ]
    },
    {
     "ename": "TypeError",
     "evalue": "unsupported operand type(s) for +: 'float' and 'str'",
     "output_type": "error",
     "traceback": [
      "\u001b[1;31m---------------------------------------------------------------------------\u001b[0m",
      "\u001b[1;31mTypeError\u001b[0m                                 Traceback (most recent call last)",
      "\u001b[1;32m<ipython-input-20-a275aee222a6>\u001b[0m in \u001b[0;36m<module>\u001b[1;34m()\u001b[0m\n\u001b[0;32m     12\u001b[0m \u001b[0md\u001b[0m \u001b[1;33m=\u001b[0m \u001b[1;34m\"Sai\"\u001b[0m\u001b[1;33m\u001b[0m\u001b[0m\n\u001b[0;32m     13\u001b[0m \u001b[0mprint\u001b[0m\u001b[1;33m(\u001b[0m\u001b[0mb\u001b[0m \u001b[1;33m+\u001b[0m \u001b[0ma\u001b[0m\u001b[1;33m)\u001b[0m\u001b[1;33m;\u001b[0m  \u001b[1;31m# Sum of values\u001b[0m\u001b[1;33m\u001b[0m\u001b[0m\n\u001b[1;32m---> 14\u001b[1;33m \u001b[0mprint\u001b[0m\u001b[1;33m(\u001b[0m\u001b[0mb\u001b[0m  \u001b[1;33m+\u001b[0m \u001b[0mc\u001b[0m\u001b[1;33m)\u001b[0m  \u001b[1;31m# Concatenating Strings\u001b[0m\u001b[1;33m\u001b[0m\u001b[0m\n\u001b[0m\u001b[0;32m     15\u001b[0m \u001b[1;33m\u001b[0m\u001b[0m\n",
      "\u001b[1;31mTypeError\u001b[0m: unsupported operand type(s) for +: 'float' and 'str'"
     ]
    }
   ],
   "source": [
    "counter = 100          # An integer assignment\n",
    "miles   = 1000.0       # A floating point\n",
    "name    = \"Ajay\"       # A string\n",
    "\n",
    "print (counter);print (miles);print (name)\n",
    "\n",
    "\n",
    "\n",
    "a = 1111111111110\n",
    "b = 2.0\n",
    "c = \"0\"\n",
    "d = \"Sai\"\n",
    "print(b + a);  # Sum of values\n",
    "print(b  + c)  # Concatenating Strings\n",
    "\n"
   ]
  },
  {
   "cell_type": "markdown",
   "metadata": {},
   "source": [
    "**Strings**\n",
    "\n",
    "+ Built-in <b>string class</b> named <b>\"str\"</b> with many handy features\n",
    "+ In addition to numerical data processing, Python has very strong string processing capabilities. \n",
    "+ <b>Subsets</b> of strings can be taken using the <b>slice operator ( [ ] and [ : ] )</b> with indexes starting at 0 in the beginning of the string and working their way from -1 at the end.\n",
    "+ The plus ( + ) sign is the string concatenation operator and the asterisk ( * ) is the repetition operator.\n",
    "+ Strings in Python are <b>immutable</b>. Unlike other datasets such as lists, you cannot manipulate individual string values. In order to do so, you have to take subsets of strings and form a new string. \n",
    "+ A string can be converted to a numerical type and vice versa (wherever applicable). Many a times, raw data, although numeric, is coded in string format. This feature provides a clean way to make sure all of the data is in numeric form.\n",
    "+ Strings are sequence of characters and can be <b>tokenized</b>.\n",
    "+ Strings and numbers can also be <b>formatted</b>.\n",
    "\n"
   ]
  },
  {
   "cell_type": "code",
   "execution_count": 25,
   "metadata": {
    "scrolled": true
   },
   "outputs": [
    {
     "name": "stdout",
     "output_type": "stream",
     "text": [
      "Hello World\n",
      "H\n",
      "llo W\n",
      "llo World\n",
      "Hello WorldHello World\n",
      "Hello World Sai Hello World Sai Hello World Sai Hello World Sai Hello World Sai Hello World Sai Hello World Sai Hello World Sai Hello World\n",
      "Hello World Hello World \n"
     ]
    }
   ],
   "source": [
    "strr = 'Hello World'\n",
    "print (strr)            # prints complete string\n",
    "print (strr[0])         # prints first character of string\n",
    "print (strr[2:7])       # prints characters starting from 3rd to 6th. Exclude last element. 'W' is excluded.\n",
    "print (strr[2:])        # prints string starting from 3rd character\n",
    "print (strr*2)          # prints string two times\n",
    "print (\" Sai \".join([strr]*9))\n",
    "print (strr + ' ' + strr + ' ' )\n",
    "#print (strr + \"TEST\")   # prints concatenated string"
   ]
  },
  {
   "cell_type": "code",
   "execution_count": 35,
   "metadata": {},
   "outputs": [
    {
     "name": "stdout",
     "output_type": "stream",
     "text": [
      "e\n",
      "this is a string\n",
      "this is a longer string\n",
      "2020\n",
      "40\n",
      "69.8\n",
      "68\n",
      "Sai\n"
     ]
    }
   ],
   "source": [
    "strr =\"hello\"\n",
    "print(strr[-4])\n",
    "\n",
    "a = 'this is a string'\n",
    "a.replace('string','longer string')\n",
    "print (a) \n",
    "print (b)\n",
    "\n",
    "a = '20'\n",
    "print (a + a)\n",
    "anum = int(a)         # Typecaste/Convert String '20' to Integer - Possible\n",
    "print (anum + anum)\n",
    "\n",
    "a = 34.9\n",
    "         # Typecaste/Convert String 'hi' to Integer - Not Possible\n",
    "print (a + a)\n",
    "anum = int(a)\n",
    "print (anum + anum)\n",
    "\n",
    "print (\"Sai\")\n",
    "\n"
   ]
  },
  {
   "cell_type": "code",
   "execution_count": 34,
   "metadata": {},
   "outputs": [
    {
     "ename": "TypeError",
     "evalue": "object of type 'float' has no len()",
     "output_type": "error",
     "traceback": [
      "\u001b[1;31m---------------------------------------------------------------------------\u001b[0m",
      "\u001b[1;31mTypeError\u001b[0m                                 Traceback (most recent call last)",
      "\u001b[1;32m<ipython-input-34-44af82a8f559>\u001b[0m in \u001b[0;36m<module>\u001b[1;34m()\u001b[0m\n\u001b[1;32m----> 1\u001b[1;33m \u001b[0ma\u001b[0m \u001b[1;33m+\u001b[0m \u001b[0mlen\u001b[0m\u001b[1;33m(\u001b[0m\u001b[0ma\u001b[0m\u001b[1;33m)\u001b[0m \u001b[1;31m# Concatenating String & Integer - Error\u001b[0m\u001b[1;33m\u001b[0m\u001b[0m\n\u001b[0m",
      "\u001b[1;31mTypeError\u001b[0m: object of type 'float' has no len()"
     ]
    }
   ],
   "source": [
    "a + len(a) # How will you make this work?"
   ]
  },
  {
   "cell_type": "code",
   "execution_count": null,
   "metadata": {},
   "outputs": [],
   "source": [
    "#Consider two strings x and y\n",
    "x = 'Confusing'\n",
    "y = 'Strings'\n",
    "#Swap first three characters of each string and join them by an _\n"
   ]
  },
  {
   "cell_type": "markdown",
   "metadata": {},
   "source": [
    "**Datetime**\n",
    "\n",
    "Python has a <b>built-in datetime module</b> for working with dates and times.\n",
    "One can create strings from date objects and vice versa. \n",
    "\n",
    "\n",
    "Python offers very powerful and flexible datetime capabilities that are capable of operating at a scale of time measured in nano-seconds. "
   ]
  },
  {
   "cell_type": "code",
   "execution_count": null,
   "metadata": {},
   "outputs": [],
   "source": [
    "#How do you print today's date in three different formats?"
   ]
  },
  {
   "cell_type": "markdown",
   "metadata": {},
   "source": [
    "**Lists**\n",
    "\n",
    "+ Lists, along with dictionary, are perhaps most important data types.\n",
    "+ A list contains items separated by commas and enclosed within square brackets ([]).\n",
    "+ All the items belonging to a list can be of <b>different data type</b>.\n",
    "+ Lists are similar to arrays in C language.\n",
    "+ The <b>plus ( + )</b> sign is the list concatenation operator, and the <b>asterisk ( * )</b> is the repetition operator.\n"
   ]
  },
  {
   "cell_type": "code",
   "execution_count": 2,
   "metadata": {},
   "outputs": [
    {
     "name": "stdout",
     "output_type": "stream",
     "text": [
      "['abcd', 786, 2.23, 'ISB', 70.2]\n",
      "abcd\n",
      "[786, 2.23]\n",
      "[2.23, 'ISB', 70.2]\n",
      "[123, 'ISB', 123, 'ISB']\n",
      "['abcd', 786, 2.23, 'ISB', 70.2, 123, 'ISB']\n",
      "5\n"
     ]
    },
    {
     "data": {
      "text/plain": [
       "['T', 'h', 'i', 's', ' ', 'i', 's', ' ', 'P', 'y', 't', 'h', 'o', 'n']"
      ]
     },
     "execution_count": 2,
     "metadata": {},
     "output_type": "execute_result"
    }
   ],
   "source": [
    "list_ = [ 'abcd', 786 , 2.23, 'ISB', 70.2 ]\n",
    "tinylist = [123, 'ISB']\n",
    "\n",
    "print (list_)            # Prints complete list\n",
    "print (list_[0])         # Prints first element of the list\n",
    "print (list_[1:3])       # Prints elements starting from 2nd till 3rd \n",
    "print (list_[2:])        # Prints elements starting from 3rd element\n",
    "print (tinylist * 2)     # Prints list two times\n",
    "print (list_ + tinylist) # Prints concatenated lists\n",
    "print (len(list_))\n",
    "str2 = list(\"This is Python\")\n",
    "str2"
   ]
  },
  {
   "cell_type": "markdown",
   "metadata": {},
   "source": [
    "**Conditional Statements**\n",
    "\n",
    "**If-statement**\n",
    "\n",
    "The <b>if</b> statement is used to check a condition: if the condition is true, we run a block of statements (called the if-block), else we process another block of statements (called the else-block). The <b>else clause is optional</b>."
   ]
  },
  {
   "cell_type": "code",
   "execution_count": null,
   "metadata": {},
   "outputs": [],
   "source": [
    "a = 20\n",
    "if a >= 22:\n",
    "   print(\"if\")\n",
    "elif a <= 21:\n",
    "   print(\"elif\")\n",
    "else:\n",
    "   print(\"else\")\n"
   ]
  },
  {
   "cell_type": "code",
   "execution_count": 1,
   "metadata": {},
   "outputs": [],
   "source": [
    "#Test if 'Vijay' exists in list\n",
    "list_test = ['Ajay', 'Ramesh']"
   ]
  }
 ],
 "metadata": {
  "anaconda-cloud": {},
  "kernelspec": {
   "display_name": "Python 2",
   "language": "python",
   "name": "python2"
  },
  "language_info": {
   "codemirror_mode": {
    "name": "ipython",
    "version": 2
   },
   "file_extension": ".py",
   "mimetype": "text/x-python",
   "name": "python",
   "nbconvert_exporter": "python",
   "pygments_lexer": "ipython2",
   "version": "2.7.14"
  }
 },
 "nbformat": 4,
 "nbformat_minor": 1
}
